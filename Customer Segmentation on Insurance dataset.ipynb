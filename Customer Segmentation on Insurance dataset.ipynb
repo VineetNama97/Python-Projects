{
 "cells": [
  {
   "cell_type": "markdown",
   "id": "f92e6b9f",
   "metadata": {},
   "source": [
    "# UA Classification via Classification and Cost Analysis"
   ]
  },
  {
   "cell_type": "code",
   "execution_count": 1,
   "id": "5635051b",
   "metadata": {},
   "outputs": [],
   "source": [
    "#pip install --upgrade notebook"
   ]
  },
  {
   "cell_type": "code",
   "execution_count": 2,
   "id": "c8cb18d0",
   "metadata": {},
   "outputs": [],
   "source": [
    "#pip install xgboost --quiet"
   ]
  },
  {
   "cell_type": "code",
   "execution_count": 3,
   "id": "df1060f6",
   "metadata": {},
   "outputs": [],
   "source": [
    "#pip install lightgbm --quiet"
   ]
  },
  {
   "cell_type": "code",
   "execution_count": 4,
   "id": "fc3444ce",
   "metadata": {},
   "outputs": [],
   "source": [
    "#pip install catboost --quiet"
   ]
  },
  {
   "cell_type": "code",
   "execution_count": 5,
   "id": "f994ed07",
   "metadata": {},
   "outputs": [],
   "source": [
    "import pandas as pd\n",
    "import numpy as np\n",
    "import matplotlib.pyplot as plt\n",
    "import seaborn as sns\n",
    "import copy\n",
    "import re\n",
    "import time\n",
    "import warnings\n",
    "warnings.filterwarnings(\"ignore\")\n",
    "\n",
    "from scipy.stats import pointbiserialr\n",
    "from collections import Counter\n",
    "\n",
    "from unidecode import unidecode\n",
    "from sklearn.model_selection import train_test_split\n",
    "from sklearn.metrics import confusion_matrix, classification_report\n",
    "from sklearn.metrics import f1_score, recall_score, precision_score, accuracy_score, roc_curve, roc_auc_score\n",
    "from sklearn.preprocessing import StandardScaler\n",
    "from sklearn.feature_selection import mutual_info_classif\n",
    "from sklearn.model_selection import cross_val_score\n",
    "\n",
    "from sklearn.linear_model import LogisticRegression\n",
    "from sklearn.tree import DecisionTreeClassifier\n",
    "from sklearn.svm import SVC\n",
    "from sklearn.naive_bayes import GaussianNB\n",
    "from sklearn.ensemble import RandomForestClassifier, ExtraTreesClassifier \n",
    "from sklearn.ensemble import GradientBoostingClassifier, AdaBoostClassifier\n",
    "from sklearn.neural_network import MLPClassifier\n",
    "from sklearn.model_selection import GridSearchCV, RandomizedSearchCV\n",
    "\n",
    "from xgboost import XGBClassifier\n",
    "from lightgbm import LGBMClassifier\n",
    "from catboost import CatBoostClassifier"
   ]
  },
  {
   "cell_type": "markdown",
   "id": "f50c1657",
   "metadata": {},
   "source": [
    "## 0. Setting the Notebook Parameters"
   ]
  },
  {
   "cell_type": "code",
   "execution_count": 6,
   "id": "e5933124",
   "metadata": {},
   "outputs": [
    {
     "name": "stdout",
     "output_type": "stream",
     "text": [
      "Working file has been set to BBDD_V6_SINCO_without_NAs_SoftImputer.csv\n",
      "KPI has been set to BMA_pol_auto\n",
      "Parameter 'max_n_features' has been set to 15\n",
      "Parameter 'features_choice' has been set to default\n",
      " ('default' is the union of sets 'union' and 'top_mi_feat')\n",
      "Parameter 'score_name' has been set to roc_auc\n",
      "Parameter 'use_scaling' has been set to True\n",
      "Parameter 'remove_missing_sinco_rows' has been set to True\n",
      "Parameter 'use_sinco_columns' has been set to True\n",
      "Parameter 'verbose' has been set to False\n",
      "Parameter 'replace_outliers' has been set to False\n",
      "Parameter 'feature_selection' has been set to True\n",
      "Parameter 'fast_execution' has been set to True\n",
      "Parameter 'consider_consensus' has been set to True\n"
     ]
    }
   ],
   "source": [
    "# Set notebook parameters\n",
    "file_path = \"BBDD_V6_SINCO_without_NAs_SoftImputer.csv\"\n",
    "KPI = 'BMA_pol_auto' # KPI to be considered to classify customers as 0 (to be selected) or 1 (to be excluded)\n",
    "threshold = 0 # if KPI > threshold then customer belongs to class 0; otherwise, customer belongs to class 1\n",
    "max_n_features = 15 # maximum number of relevant features per model to use\n",
    "features_choice = 'default' # You can use 'union', 'intersection', 'top_corr_feat' 'top_mi_feat', or 'default'\n",
    "score_name = 'roc_auc' # select the score to optimize ('roc_auc', 'f1', 'recall', etc.)\n",
    "use_scaling = True # choose True if you want to scale X data\n",
    "remove_missing_sinco_rows = True # choose True to remove rows without sinco info\n",
    "use_sinco_columns = True # choose True to include sinco variables in the model\n",
    "verbose = False # choose True if you want more output details\n",
    "if verbose: pd.set_option('display.max_rows', None)\n",
    "replace_outliers = False # choose True to replace outliers by their closest bound (winsorizing)\n",
    "feature_selection = True # choose True if you want to add just a few relevant features to X\n",
    "fast_execution = True # choose False if you want to include slower methods\n",
    "consider_consensus = True # choose False if you want to keep the best model in the pool with CV\n",
    "# Print notebook parameters\n",
    "print(\"Working file has been set to\", file_path)\n",
    "print(\"KPI has been set to\", KPI)\n",
    "print(\"Parameter 'max_n_features' has been set to\", max_n_features)\n",
    "print(\"Parameter 'features_choice' has been set to\", features_choice)\n",
    "if features_choice == 'default': print(\" ('default' is the union of sets 'union' and 'top_mi_feat')\")\n",
    "print(\"Parameter 'score_name' has been set to\", score_name)\n",
    "print(\"Parameter 'use_scaling' has been set to\", use_scaling)\n",
    "print(\"Parameter 'remove_missing_sinco_rows' has been set to\", remove_missing_sinco_rows)\n",
    "print(\"Parameter 'use_sinco_columns' has been set to\", use_sinco_columns)\n",
    "print(\"Parameter 'verbose' has been set to\", verbose)\n",
    "print(\"Parameter 'replace_outliers' has been set to\", replace_outliers)\n",
    "print(\"Parameter 'feature_selection' has been set to\", feature_selection)\n",
    "print(\"Parameter 'fast_execution' has been set to\", fast_execution)\n",
    "print(\"Parameter 'consider_consensus' has been set to\", consider_consensus)"
   ]
  },
  {
   "cell_type": "markdown",
   "id": "9e49f1c6",
   "metadata": {},
   "source": [
    "## 1. Data Preprocessing"
   ]
  },
  {
   "cell_type": "code",
   "execution_count": 7,
   "id": "d236e3eb",
   "metadata": {},
   "outputs": [
    {
     "name": "stdout",
     "output_type": "stream",
     "text": [
      "The following columns have been removed:\n",
      " ['PrimaTotalPoliza', 'ComisionTotalPoliza', 'SiniestralidadTotalPoliza', 'ExposicionTotalPoliza']\n",
      "\n",
      "Dataset shape (rows, columns): (116650, 192)\n",
      "Non-unicode characters in columns' names have been removed to avoid issues with models.\n"
     ]
    }
   ],
   "source": [
    "# Read the data file\n",
    "df = pd.read_csv(file_path)\n",
    "# Remove additional columns as indicated by Raquel\n",
    "col_to_remove = ['PrimaTotalPoliza', 'ComisionTotalPoliza', 'SiniestralidadTotalPoliza', 'ExposicionTotalPoliza']\n",
    "df = df.drop(columns=col_to_remove)\n",
    "print(\"The following columns have been removed:\\n\", col_to_remove)\n",
    "print(\"\\nDataset shape (rows, columns):\", df.shape)\n",
    "# Use unicode characters for column names and remove non-alphanumeric characters\n",
    "df.columns = [unidecode(column) for column in df.columns]\n",
    "df.columns = [re.sub(r'\\W+', '_', column) for column in df.columns]\n",
    "print(\"Non-unicode characters in columns' names have been removed to avoid issues with models.\")"
   ]
  },
  {
   "cell_type": "code",
   "execution_count": 8,
   "id": "b7730ce5",
   "metadata": {},
   "outputs": [
    {
     "name": "stdout",
     "output_type": "stream",
     "text": [
      "Long names in columns have been shortened to avoid issues with models.\n"
     ]
    }
   ],
   "source": [
    "# Define function to shorten column name\n",
    "def shorten_column_name(column_name, max_length=30, prefix_length=15, suffix_length=15):\n",
    "    if len(column_name) <= max_length: return column_name\n",
    "    else: return column_name[:prefix_length] + '_' + column_name[-suffix_length:]\n",
    "    \n",
    "# Shorten column names in DataFrame\n",
    "df.columns = [shorten_column_name(column) for column in df.columns]\n",
    "print(\"Long names in columns have been shortened to avoid issues with models.\")"
   ]
  },
  {
   "cell_type": "code",
   "execution_count": 9,
   "id": "80f3727b-d260-4df3-acad-ea8b4ce5fc6b",
   "metadata": {},
   "outputs": [
    {
     "data": {
      "text/html": [
       "<div>\n",
       "<style scoped>\n",
       "    .dataframe tbody tr th:only-of-type {\n",
       "        vertical-align: middle;\n",
       "    }\n",
       "\n",
       "    .dataframe tbody tr th {\n",
       "        vertical-align: top;\n",
       "    }\n",
       "\n",
       "    .dataframe thead th {\n",
       "        text-align: right;\n",
       "    }\n",
       "</style>\n",
       "<table border=\"1\" class=\"dataframe\">\n",
       "  <thead>\n",
       "    <tr style=\"text-align: right;\">\n",
       "      <th></th>\n",
       "      <th>id17</th>\n",
       "      <th>id18</th>\n",
       "      <th>id21</th>\n",
       "      <th>id55</th>\n",
       "      <th>id58_1</th>\n",
       "      <th>id58_2</th>\n",
       "      <th>id58_3</th>\n",
       "      <th>id59</th>\n",
       "      <th>id60</th>\n",
       "      <th>id61</th>\n",
       "      <th>...</th>\n",
       "      <th>NotaLUA_B</th>\n",
       "      <th>NotaLUA_C</th>\n",
       "      <th>NotaLUA_D</th>\n",
       "      <th>NotaLUA_E</th>\n",
       "      <th>NotaLUA_F</th>\n",
       "      <th>NotaLUA_G</th>\n",
       "      <th>SINCO</th>\n",
       "      <th>Cliente_Diverso</th>\n",
       "      <th>BMA_pol</th>\n",
       "      <th>BMA_pol_auto</th>\n",
       "    </tr>\n",
       "  </thead>\n",
       "  <tbody>\n",
       "    <tr>\n",
       "      <th>0</th>\n",
       "      <td>31.0</td>\n",
       "      <td>403.0</td>\n",
       "      <td>3720.0</td>\n",
       "      <td>-50.0</td>\n",
       "      <td>0.0</td>\n",
       "      <td>0.0</td>\n",
       "      <td>0.0</td>\n",
       "      <td>0.00</td>\n",
       "      <td>0.00</td>\n",
       "      <td>0.00</td>\n",
       "      <td>...</td>\n",
       "      <td>0.0</td>\n",
       "      <td>1.0</td>\n",
       "      <td>0.0</td>\n",
       "      <td>0.0</td>\n",
       "      <td>0.0</td>\n",
       "      <td>0.0</td>\n",
       "      <td>0.0</td>\n",
       "      <td>0.0</td>\n",
       "      <td>44.571968</td>\n",
       "      <td>44.571968</td>\n",
       "    </tr>\n",
       "    <tr>\n",
       "      <th>1</th>\n",
       "      <td>160.0</td>\n",
       "      <td>1.0</td>\n",
       "      <td>29180.0</td>\n",
       "      <td>-50.0</td>\n",
       "      <td>0.0</td>\n",
       "      <td>0.0</td>\n",
       "      <td>0.0</td>\n",
       "      <td>0.00</td>\n",
       "      <td>0.00</td>\n",
       "      <td>0.00</td>\n",
       "      <td>...</td>\n",
       "      <td>0.0</td>\n",
       "      <td>1.0</td>\n",
       "      <td>0.0</td>\n",
       "      <td>0.0</td>\n",
       "      <td>0.0</td>\n",
       "      <td>0.0</td>\n",
       "      <td>1.0</td>\n",
       "      <td>0.0</td>\n",
       "      <td>109.816034</td>\n",
       "      <td>109.816034</td>\n",
       "    </tr>\n",
       "    <tr>\n",
       "      <th>2</th>\n",
       "      <td>600.0</td>\n",
       "      <td>110.0</td>\n",
       "      <td>3009.0</td>\n",
       "      <td>-50.0</td>\n",
       "      <td>0.0</td>\n",
       "      <td>0.0</td>\n",
       "      <td>0.0</td>\n",
       "      <td>0.00</td>\n",
       "      <td>0.00</td>\n",
       "      <td>0.00</td>\n",
       "      <td>...</td>\n",
       "      <td>0.0</td>\n",
       "      <td>0.0</td>\n",
       "      <td>0.0</td>\n",
       "      <td>0.0</td>\n",
       "      <td>1.0</td>\n",
       "      <td>0.0</td>\n",
       "      <td>0.0</td>\n",
       "      <td>1.0</td>\n",
       "      <td>107.068853</td>\n",
       "      <td>107.068853</td>\n",
       "    </tr>\n",
       "    <tr>\n",
       "      <th>3</th>\n",
       "      <td>461.0</td>\n",
       "      <td>51.0</td>\n",
       "      <td>46717.0</td>\n",
       "      <td>-50.0</td>\n",
       "      <td>0.0</td>\n",
       "      <td>1.0</td>\n",
       "      <td>0.0</td>\n",
       "      <td>2961.46</td>\n",
       "      <td>552.33</td>\n",
       "      <td>141.83</td>\n",
       "      <td>...</td>\n",
       "      <td>0.0</td>\n",
       "      <td>1.0</td>\n",
       "      <td>0.0</td>\n",
       "      <td>0.0</td>\n",
       "      <td>0.0</td>\n",
       "      <td>0.0</td>\n",
       "      <td>0.0</td>\n",
       "      <td>1.0</td>\n",
       "      <td>236.286600</td>\n",
       "      <td>236.286600</td>\n",
       "    </tr>\n",
       "    <tr>\n",
       "      <th>4</th>\n",
       "      <td>31.0</td>\n",
       "      <td>403.0</td>\n",
       "      <td>3720.0</td>\n",
       "      <td>-50.0</td>\n",
       "      <td>0.0</td>\n",
       "      <td>0.0</td>\n",
       "      <td>0.0</td>\n",
       "      <td>0.00</td>\n",
       "      <td>0.00</td>\n",
       "      <td>0.00</td>\n",
       "      <td>...</td>\n",
       "      <td>0.0</td>\n",
       "      <td>1.0</td>\n",
       "      <td>0.0</td>\n",
       "      <td>0.0</td>\n",
       "      <td>0.0</td>\n",
       "      <td>0.0</td>\n",
       "      <td>0.0</td>\n",
       "      <td>1.0</td>\n",
       "      <td>216.643160</td>\n",
       "      <td>216.643160</td>\n",
       "    </tr>\n",
       "  </tbody>\n",
       "</table>\n",
       "<p>5 rows × 192 columns</p>\n",
       "</div>"
      ],
      "text/plain": [
       "    id17   id18     id21  id55  id58_1  id58_2  id58_3     id59    id60  \\\n",
       "0   31.0  403.0   3720.0 -50.0     0.0     0.0     0.0     0.00    0.00   \n",
       "1  160.0    1.0  29180.0 -50.0     0.0     0.0     0.0     0.00    0.00   \n",
       "2  600.0  110.0   3009.0 -50.0     0.0     0.0     0.0     0.00    0.00   \n",
       "3  461.0   51.0  46717.0 -50.0     0.0     1.0     0.0  2961.46  552.33   \n",
       "4   31.0  403.0   3720.0 -50.0     0.0     0.0     0.0     0.00    0.00   \n",
       "\n",
       "     id61  ...  NotaLUA_B  NotaLUA_C  NotaLUA_D  NotaLUA_E  NotaLUA_F  \\\n",
       "0    0.00  ...        0.0        1.0        0.0        0.0        0.0   \n",
       "1    0.00  ...        0.0        1.0        0.0        0.0        0.0   \n",
       "2    0.00  ...        0.0        0.0        0.0        0.0        1.0   \n",
       "3  141.83  ...        0.0        1.0        0.0        0.0        0.0   \n",
       "4    0.00  ...        0.0        1.0        0.0        0.0        0.0   \n",
       "\n",
       "   NotaLUA_G  SINCO  Cliente_Diverso     BMA_pol  BMA_pol_auto  \n",
       "0        0.0    0.0              0.0   44.571968     44.571968  \n",
       "1        0.0    1.0              0.0  109.816034    109.816034  \n",
       "2        0.0    0.0              1.0  107.068853    107.068853  \n",
       "3        0.0    0.0              1.0  236.286600    236.286600  \n",
       "4        0.0    0.0              1.0  216.643160    216.643160  \n",
       "\n",
       "[5 rows x 192 columns]"
      ]
     },
     "execution_count": 9,
     "metadata": {},
     "output_type": "execute_result"
    }
   ],
   "source": [
    "# Display the first rows of the dataframe\n",
    "df.head()"
   ]
  },
  {
   "cell_type": "code",
   "execution_count": 10,
   "id": "fb325a0b",
   "metadata": {},
   "outputs": [
    {
     "name": "stdout",
     "output_type": "stream",
     "text": [
      "Feature names:\n",
      "\n",
      "Index(['id17', 'id18', 'id21', 'id55', 'id58_1', 'id58_2', 'id58_3', 'id59',\n",
      "       'id60', 'id61',\n",
      "       ...\n",
      "       'NotaLUA_B', 'NotaLUA_C', 'NotaLUA_D', 'NotaLUA_E', 'NotaLUA_F',\n",
      "       'NotaLUA_G', 'SINCO', 'Cliente_Diverso', 'BMA_pol', 'BMA_pol_auto'],\n",
      "      dtype='object', length=192)\n"
     ]
    }
   ],
   "source": [
    "print(\"Feature names:\\n\")\n",
    "if verbose: print(df.columns.tolist())\n",
    "else: print(df.columns)"
   ]
  },
  {
   "cell_type": "code",
   "execution_count": 11,
   "id": "1fc49a42",
   "metadata": {},
   "outputs": [
    {
     "name": "stdout",
     "output_type": "stream",
     "text": [
      "id17               float64\n",
      "id18               float64\n",
      "id21               float64\n",
      "id55               float64\n",
      "id58_1             float64\n",
      "                    ...   \n",
      "NotaLUA_G          float64\n",
      "SINCO              float64\n",
      "Cliente_Diverso    float64\n",
      "BMA_pol            float64\n",
      "BMA_pol_auto       float64\n",
      "Length: 192, dtype: object\n"
     ]
    }
   ],
   "source": [
    "# Display the data type of each column\n",
    "print(df.dtypes)"
   ]
  },
  {
   "cell_type": "code",
   "execution_count": 12,
   "id": "d695dce7",
   "metadata": {},
   "outputs": [
    {
     "name": "stdout",
     "output_type": "stream",
     "text": [
      "Dataframe shape before rows removal (if any) operation: (116650, 192)\n",
      "Rows without SINCO data have been removed.\n",
      "Dataframe shape after rows removal (if any) operation: (51546, 192)\n"
     ]
    }
   ],
   "source": [
    "# If required, remove rows without SINCO information\n",
    "print(\"Dataframe shape before rows removal (if any) operation:\", df.shape)\n",
    "if remove_missing_sinco_rows:\n",
    "    df = df[df['SINCO'] != 0]\n",
    "    print(\"Rows without SINCO data have been removed.\")\n",
    "else: print(\"The dataset contains rows without SINCO data.\")\n",
    "print(\"Dataframe shape after rows removal (if any) operation:\", df.shape)"
   ]
  },
  {
   "cell_type": "code",
   "execution_count": 13,
   "id": "f0967fc4",
   "metadata": {},
   "outputs": [
    {
     "name": "stdout",
     "output_type": "stream",
     "text": [
      "The following SINCO columns have been identified:\n",
      "\n",
      " ['SINCOTotalVehiculos', 'TiempoSINCO', 'PerteneceSINCO', 'TotalMatriculasSINCO', 'TiempoMedioSINCO', 'TiempoSeguroSINCO', 'TiempoSINCO_Anos', 'FrecuenciaSiniestroSINCO', 'NV_AutomovilSINCO', 'NV_MotocicletaSINCO', 'NV_OtrosSINCO', 'SINCOMatriculaIncluida', 'NumeroDanyosMaterialesSINCO', 'ProcesoDanyosMaterialesSINCO', 'NumeroDanyosPersonalesSINCO', 'ProcesoDanyosPersonalesSINCO', 'TipoConsultaSINCO_Tomador', 'SINCO', 'id55']\n"
     ]
    }
   ],
   "source": [
    "# Identify SINCO columns in the dataset\n",
    "sinco_columns = [col for col in df.columns if 'SINCO' in col]\n",
    "sinco_columns += ['id55'] # is also SINCO as indicated by Raquel\n",
    "print(\"The following SINCO columns have been identified:\\n\\n\", sinco_columns)"
   ]
  },
  {
   "cell_type": "code",
   "execution_count": 14,
   "id": "51b56136",
   "metadata": {},
   "outputs": [
    {
     "name": "stdout",
     "output_type": "stream",
     "text": [
      "SINCO columns are still included in the dataframe.\n"
     ]
    }
   ],
   "source": [
    "# If required, delete SINCO columns\n",
    "if use_sinco_columns == False:\n",
    "    df = df.drop(columns=sinco_columns)\n",
    "    print(\"SINCO columns have been removed from dataframe.\")\n",
    "else: print(\"SINCO columns are still included in the dataframe.\")"
   ]
  },
  {
   "cell_type": "code",
   "execution_count": 15,
   "id": "80ea76fb",
   "metadata": {},
   "outputs": [
    {
     "name": "stdout",
     "output_type": "stream",
     "text": [
      "(51546, 192)\n",
      "Columns with more missing data:\n",
      "id17                 0\n",
      "id18                 0\n",
      "TiempoMedioSINCO     0\n",
      "TiempoSeguroSINCO    0\n",
      "TiempoSINCO_Anos     0\n",
      "dtype: int64\n",
      "\n",
      "Total number of missing data: 0\n"
     ]
    }
   ],
   "source": [
    "# Calculate missing data for each column\n",
    "def calc_missing_data(data):\n",
    "    print(data.shape)\n",
    "    missing_data = data.isna().sum()\n",
    "    missing_data = missing_data.sort_values(ascending=False)\n",
    "    print(\"Columns with more missing data:\")\n",
    "    print(missing_data.head())\n",
    "    total_missing = missing_data.sum()\n",
    "    print(\"\\nTotal number of missing data:\", total_missing)\n",
    "    return total_missing\n",
    "\n",
    "total_missing = calc_missing_data(df)"
   ]
  },
  {
   "cell_type": "code",
   "execution_count": 16,
   "id": "a6601bad",
   "metadata": {},
   "outputs": [
    {
     "name": "stdout",
     "output_type": "stream",
     "text": [
      "There was not missing data in the dataframe.\n"
     ]
    }
   ],
   "source": [
    "# Impute missing data using a fast method\n",
    "if total_missing > 0:\n",
    "    df.fillna(df.median(), inplace=True)\n",
    "    print(\"Missing data has been imputed using a fast method.\\n\")\n",
    "    total_missing = calc_missing_data(df)\n",
    "else: print (\"There was not missing data in the dataframe.\")"
   ]
  },
  {
   "cell_type": "markdown",
   "id": "a543bc84",
   "metadata": {},
   "source": [
    "## 2. Defining Target"
   ]
  },
  {
   "cell_type": "code",
   "execution_count": 17,
   "id": "fcc12ef9",
   "metadata": {},
   "outputs": [
    {
     "name": "stdout",
     "output_type": "stream",
     "text": [
      "Summary of statistics for KPI variable BMA_pol_auto in X.\n"
     ]
    },
    {
     "data": {
      "text/plain": [
       "count     51546.000000\n",
       "mean         45.242747\n",
       "std        2479.687340\n",
       "min     -185990.403750\n",
       "25%          75.253375\n",
       "50%         181.123669\n",
       "75%         272.209048\n",
       "max       28207.913409\n",
       "Name: BMA_pol_auto, dtype: float64"
      ]
     },
     "execution_count": 17,
     "metadata": {},
     "output_type": "execute_result"
    }
   ],
   "source": [
    "# Describe KPI variable\n",
    "print(\"Summary of statistics for KPI variable\", KPI, \"in X.\")\n",
    "df[KPI].describe()"
   ]
  },
  {
   "cell_type": "code",
   "execution_count": 18,
   "id": "67ae3b2c",
   "metadata": {},
   "outputs": [
    {
     "name": "stdout",
     "output_type": "stream",
     "text": [
      "Boxplot of KPI in dataset X:\n",
      "\n"
     ]
    },
    {
     "data": {
      "image/png": "[encoded data removed]",
      "text/plain": [
       "<Figure size 800x100 with 1 Axes>"
      ]
     },
     "metadata": {},
     "output_type": "display_data"
    }
   ],
   "source": [
    "# Boxplot of the KPI\n",
    "def plot_boxplot(X, var):\n",
    "    plt.figure(figsize=(8, 1))\n",
    "    plt.boxplot(X[var], vert=False)\n",
    "    plt.title('Boxplot of ' + var)\n",
    "    plt.xlabel('Value')\n",
    "    plt.grid(True)\n",
    "    plt.show()\n",
    "\n",
    "print(\"Boxplot of KPI in dataset X:\\n\")\n",
    "plot_boxplot(df, KPI)"
   ]
  },
  {
   "cell_type": "code",
   "execution_count": 19,
   "id": "7a6ef215-1f48-4f51-a7d9-7c1fd23e43e8",
   "metadata": {},
   "outputs": [
    {
     "name": "stdout",
     "output_type": "stream",
     "text": [
      "True class of each customer: 0 (selected) if KPI>0, or 1 (excluded) otherwise.\n"
     ]
    }
   ],
   "source": [
    "# Create the class_true variable based on each client's KPI and the user-defined threshold\n",
    "df['true_class'] = np.where(df[KPI] > threshold, 0, 1)\n",
    "print(f\"True class of each customer: 0 (selected) if KPI>{threshold}, or 1 (excluded) otherwise.\")\n",
    "if threshold != 0:\n",
    "    print(\"\\nTake into account the user-defined threshold when interpreting the consensus matrices.\")"
   ]
  },
  {
   "cell_type": "code",
   "execution_count": 20,
   "id": "75a083c9",
   "metadata": {},
   "outputs": [
    {
     "name": "stdout",
     "output_type": "stream",
     "text": [
      "The target variable is: true_class with type int64\n",
      "\n",
      "The following columns will be dropped from set of predictive features (X):\n",
      " ['true_class', 'BMA_pol', 'BMA_pol_auto']\n"
     ]
    }
   ],
   "source": [
    "# Select the target variable\n",
    "target = 'true_class'\n",
    "col_to_drop = [target, 'BMA_pol', 'BMA_pol_auto'] # columns to drop from set of features (X)\n",
    "print(\"The target variable is:\", target, \"with type\", df[target].dtype)\n",
    "print(\"\\nThe following columns will be dropped from set of predictive features (X):\\n\", col_to_drop)"
   ]
  },
  {
   "cell_type": "code",
   "execution_count": 21,
   "id": "0827802e",
   "metadata": {},
   "outputs": [
    {
     "data": {
      "image/png": "[encoded data removed]",
      "text/plain": [
       "<Figure size 300x300 with 1 Axes>"
      ]
     },
     "metadata": {},
     "output_type": "display_data"
    }
   ],
   "source": [
    "# Count the occurrences of each unique value in the binary target variable\n",
    "target_counts = df[target].value_counts()\n",
    "# Plot a pie chart\n",
    "colors = ['#66c2a5', '#fc8d62']  # soft pastel colors\n",
    "plt.figure(figsize=(3, 3)) \n",
    "plt.pie(target_counts, autopct='%1.1f%%', startangle=140, colors=colors)\n",
    "plt.title(f\"Distribution of target {target}\")\n",
    "plt.axis('equal')  # Equal aspect ratio ensures that pie is drawn as a circle.\n",
    "plt.legend(labels=target_counts.index, title=target, loc=\"center left\", bbox_to_anchor=(1, 0.5))\n",
    "plt.show()"
   ]
  },
  {
   "cell_type": "code",
   "execution_count": 22,
   "id": "c7ca95dc",
   "metadata": {},
   "outputs": [
    {
     "name": "stdout",
     "output_type": "stream",
     "text": [
      "Total customers in dataset: 51,546 customers in X\n",
      "Based on KPI, maximum possible benefit in X: 14,247,061 euros\n",
      "Based on KPI, real benefit before applying any model: 2,332,083 euros (16% of max)\n",
      "Based on KPI, avg. benefit before applying any model: 45.24 euros per cust. in dataset\n"
     ]
    }
   ],
   "source": [
    "# Compute the average and total benefit before applyting any classification model to filter customers\n",
    "print(f\"Total customers in dataset: {df.shape[0]:,.0f} customers in X\")\n",
    "max_benefit = df[df[KPI] > 0][KPI].sum()\n",
    "real_benefit = df[KPI].sum()\n",
    "p_r_benefit = int(round(100 * real_benefit / max_benefit, 0))\n",
    "avg_r_benefit = df[KPI].mean()\n",
    "print(f\"Based on KPI, maximum possible benefit in X: {max_benefit:,.0f} euros\")\n",
    "print(f\"Based on KPI, real benefit before applying any model: {real_benefit:,.0f} euros ({p_r_benefit}% of max)\")\n",
    "print(f\"Based on KPI, avg. benefit before applying any model: {avg_r_benefit:,.2f} euros per cust. in dataset\")"
   ]
  },
  {
   "cell_type": "markdown",
   "id": "365ea783",
   "metadata": {},
   "source": [
    "## 3. Outliers Management"
   ]
  },
  {
   "cell_type": "code",
   "execution_count": 23,
   "id": "6547b734",
   "metadata": {},
   "outputs": [
    {
     "name": "stdout",
     "output_type": "stream",
     "text": [
      "A copy of the original KPI column has been made before possible replacement of outliers.\n",
      "\n",
      "The following columns will be dropped from set of features (X):\n",
      " ['true_class', 'BMA_pol', 'BMA_pol_auto']\n"
     ]
    }
   ],
   "source": [
    "# Make a copy of the KPI column before possible replacement of outliers\n",
    "KPI_copy = KPI + '_original'\n",
    "df[KPI_copy] = df[KPI].copy()\n",
    "print(\"A copy of the original KPI column has been made before possible replacement of outliers.\")\n",
    "print(\"\\nThe following columns will be dropped from set of features (X):\\n\", col_to_drop)"
   ]
  },
  {
   "cell_type": "code",
   "execution_count": 24,
   "id": "0024e151",
   "metadata": {},
   "outputs": [
    {
     "name": "stdout",
     "output_type": "stream",
     "text": [
      "No outliers have been replaced.\n"
     ]
    }
   ],
   "source": [
    "# Define a function to replace outliers with the closest non-outlier value (winsoring technique)\n",
    "def modify_outliers(var):\n",
    "    Q1 = var.quantile(0.25)\n",
    "    Q3 = var.quantile(0.75)\n",
    "    IQR = Q3 - Q1\n",
    "    lb = Q1 - 1.5 * IQR\n",
    "    ub = Q3 + 1.5 * IQR\n",
    "    var.loc[var < lb] = lb\n",
    "    var.loc[var > ub] = ub\n",
    "    return var\n",
    "\n",
    "# If requested, iterate over float columns and replace outliers \n",
    "if replace_outliers:\n",
    "    for column in df.select_dtypes(include=['float64', 'float32']).columns:\n",
    "        if column != KPI_copy and column != target: # keep outliers in these columns\n",
    "            df[column] = modify_outliers(df[column])\n",
    "    print(\"Outliers have been replaced by their closest bound.\")\n",
    "else: print(\"No outliers have been replaced.\")"
   ]
  },
  {
   "cell_type": "code",
   "execution_count": 25,
   "id": "401b913e",
   "metadata": {},
   "outputs": [
    {
     "name": "stdout",
     "output_type": "stream",
     "text": [
      "No new plots since outliers have NOT been replaced.\n"
     ]
    }
   ],
   "source": [
    "# Additional boxplots of variables\n",
    "if replace_outliers: \n",
    "    plot_boxplot(KPI_copy)\n",
    "    plot_boxplot(KPI)\n",
    "    plot_boxplot(feature)\n",
    "else: print(\"No new plots since outliers have NOT been replaced.\")"
   ]
  },
  {
   "cell_type": "markdown",
   "id": "7a6d3af7",
   "metadata": {},
   "source": [
    "## 4. Biserial Correlation and Mutual Information with target"
   ]
  },
  {
   "cell_type": "code",
   "execution_count": 26,
   "id": "4501cf0a",
   "metadata": {},
   "outputs": [
    {
     "name": "stdout",
     "output_type": "stream",
     "text": [
      "The following columns will be dropped from set of features (X):\n",
      " ['true_class', 'BMA_pol', 'BMA_pol_auto']\n"
     ]
    }
   ],
   "source": [
    "# If required, add columns to drop from features set X\n",
    "col_to_drop += []\n",
    "print(\"The following columns will be dropped from set of features (X):\\n\", col_to_drop)"
   ]
  },
  {
   "cell_type": "code",
   "execution_count": 27,
   "id": "d1f4bbfa-6135-4bdc-a0e9-757b1b8986b5",
   "metadata": {},
   "outputs": [
    {
     "name": "stdout",
     "output_type": "stream",
     "text": [
      "Top 2 significant biserial correlations (in abs) with target:\n",
      "Cliente_Diverso    0.151522\n",
      "id55               0.140211\n",
      "dtype: float64\n",
      "\n",
      "Top 2 biserial correlated features:\n",
      " ['Cliente_Diverso', 'id55']\n"
     ]
    }
   ],
   "source": [
    "# Compute biserial correlations (in absolute value) between the target and numerical features\n",
    "numerical_columns = df.select_dtypes(include=['number']).columns\n",
    "correlations = {}\n",
    "for col in numerical_columns:\n",
    "    correlation, _ = pointbiserialr(df[col], df[target])\n",
    "    correlations[col] = abs(correlation)\n",
    "\n",
    "sorted_correlations = pd.Series(correlations).sort_values(ascending=False)\n",
    "# Drop unwanted columns if they exist\n",
    "sorted_correlations.drop(col_to_drop, inplace=True)\n",
    "sorted_correlations.drop(KPI_copy, inplace=True)\n",
    "# Filter correlations greater than a given value in absolute value\n",
    "min_corr_val = 0.1\n",
    "sorted_correlations = sorted_correlations[sorted_correlations > min_corr_val]\n",
    "print(\"Top\", len(sorted_correlations), \"significant biserial correlations (in abs) with target:\")\n",
    "print(sorted_correlations)\n",
    "# Keep a list of features with high correlations\n",
    "top_corr_feat = sorted_correlations.index.tolist()\n",
    "print(\"\\nTop\", len(top_corr_feat), \"biserial correlated features:\\n\", top_corr_feat)"
   ]
  },
  {
   "cell_type": "code",
   "execution_count": 28,
   "id": "97a4e633",
   "metadata": {},
   "outputs": [
    {
     "name": "stdout",
     "output_type": "stream",
     "text": [
      "Top mutual information has been initilizad as an empty set.\n",
      "\n",
      "In fast execution mode, mutual information (non-linear relationships) is not computed.\n"
     ]
    }
   ],
   "source": [
    "# Compute mutual information (non-linear relationship) between the target and numerical features\n",
    "top_mi_feat = set() # initialize empty set in case fast_execution is activated\n",
    "print(\"Top mutual information has been initilizad as an empty set.\")\n",
    "if fast_execution == False:\n",
    "    mi = mutual_info_classif(df[numerical_columns], df[target])\n",
    "    # Create a dictionary of mutual information values\n",
    "    mi_dict = {col: mi_val for col, mi_val in zip(numerical_columns, mi)}\n",
    "    # Convert to a pandas Series for sorting\n",
    "    sorted_mi = pd.Series(mi_dict).sort_values(ascending=False)\n",
    "    # Drop unwanted columns if they exist\n",
    "    sorted_mi.drop(col_to_drop, inplace=True)\n",
    "    sorted_mi.drop(KPI_copy, inplace=True)\n",
    "    # Filter mutual information values greater than a given value\n",
    "    min_mi_val = 0.01\n",
    "    sorted_mi = sorted_mi[sorted_mi > min_mi_val]\n",
    "    print(\"\\nTop\", len(sorted_mi), \"significant mutual information values with target:\")\n",
    "    print(sorted_mi)\n",
    "    # Keep a list of features with high mutual information values\n",
    "    top_mi_feat = sorted_mi.index.tolist()\n",
    "    print(\"\\nTop\", len(top_mi_feat), \"mutual information features:\\n\", top_mi_feat)\n",
    "else: print(\"\\nIn fast execution mode, mutual information (non-linear relationships) is not computed.\")"
   ]
  },
  {
   "cell_type": "markdown",
   "id": "a7379558",
   "metadata": {},
   "source": [
    "## 5. Features Selection and Train-Test Split"
   ]
  },
  {
   "cell_type": "markdown",
   "id": "027ab205",
   "metadata": {},
   "source": [
    "### 5a. Selection of Target y and Preliminary Features X"
   ]
  },
  {
   "cell_type": "code",
   "execution_count": 29,
   "id": "df5f45b0",
   "metadata": {},
   "outputs": [
    {
     "name": "stdout",
     "output_type": "stream",
     "text": [
      "Target y and preliminary predictors X have been defined.\n",
      "\n",
      "The following columns have been dropped from set of features (X):\n",
      " ['true_class', 'BMA_pol', 'BMA_pol_auto']\n",
      "\n",
      "Variable BMA_pol_auto_original is still in X.\n"
     ]
    }
   ],
   "source": [
    "# Select the target y and the preliminary predictive features X\n",
    "y = df[target]\n",
    "X = df[numerical_columns].drop(columns=col_to_drop)\n",
    "print(\"Target y and preliminary predictors X have been defined.\")\n",
    "print(\"\\nThe following columns have been dropped from set of features (X):\\n\", col_to_drop)\n",
    "if KPI_copy in X.columns: print(\"\\nVariable\", KPI_copy, \"is still in X.\")\n",
    "else: print(\"\\nVariable\", KPI_copy, \"is NOT in X.\")"
   ]
  },
  {
   "cell_type": "code",
   "execution_count": 30,
   "id": "3cddcfad",
   "metadata": {},
   "outputs": [
    {
     "name": "stdout",
     "output_type": "stream",
     "text": [
      "Target y and preliminary X have been split into train and test sets.\n",
      "\n",
      "Variable BMA_pol_auto_original is in X_train and X_test.\n"
     ]
    }
   ],
   "source": [
    "# Split y and preliminary X into training and testing sets\n",
    "X_train, X_test, y_train, y_test = train_test_split(X, y, test_size=0.3, random_state=42)\n",
    "print(\"Target y and preliminary X have been split into train and test sets.\")\n",
    "if KPI_copy in X_train.columns and KPI_copy in X_test.columns: \n",
    "    print(\"\\nVariable\", KPI_copy, \"is in X_train and X_test.\")\n",
    "else: print(\"\\nVariable\", KPI_copy, \"is NOT in X_train and X_test.\")    "
   ]
  },
  {
   "cell_type": "markdown",
   "id": "ce45960a",
   "metadata": {},
   "source": [
    "### 5b. Feature Importance"
   ]
  },
  {
   "cell_type": "code",
   "execution_count": 31,
   "id": "c539393d",
   "metadata": {},
   "outputs": [
    {
     "name": "stdout",
     "output_type": "stream",
     "text": [
      "Variable BMA_pol_auto_original has been temporarily removed from X_train.\n",
      "\n",
      "Displaying top relevant features (importance) for each model:\n",
      "\n",
      "XGBClassifier...\n",
      "   id55 (0.04)\n",
      "   Cliente_Diverso (0.02)\n",
      "   FrecuenciaSiniestroSINCO (0.02)\n",
      "   AnyoPoliza (0.02)\n",
      "   NumeroDanyosMaterialesSINCO (0.01)\n",
      "   PerteneceSINCO (0.01)\n",
      "Elapsed: 3 sec.\n",
      "\n",
      "LGBMClassifier...\n",
      "   AnyoPoliza (161)\n",
      "   id55 (130)\n",
      "   ValorVehiculoMercado (94)\n",
      "   TiempoMedioSINCO (87)\n",
      "   TiempoSINCO (61)\n",
      "   PerteneceSINCO (56)\n",
      "   FrecuenciaSiniestroSINCO (56)\n",
      "   Antiguedad_Carnet (55)\n",
      "   Edad (54)\n",
      "   id70 (50)\n",
      "   TiempoSeguroSINCO (46)\n",
      "   SINCOTotalVehiculos (45)\n",
      "   ScoreCanal (42)\n",
      "   AntiguedadVehiculo (42)\n",
      "   id18 (33)\n",
      "Elapsed: 2 sec.\n"
     ]
    }
   ],
   "source": [
    "def get_relevant_features(model, X_train_red, y_train):\n",
    "    print(\"\\n\" + type(model).__name__ + \"...\")\n",
    "    start_time = time.time()\n",
    "    model.fit(X_train_red, y_train)\n",
    "    # Get feature importances and sort features by importance\n",
    "    feature_importances = model.feature_importances_\n",
    "    feature_importance_list = list(zip(X_train_red.columns, feature_importances))\n",
    "    feature_importance_list = sorted(feature_importance_list, key=lambda x: x[1], reverse=True)\n",
    "    # Print the sorted list of features and their importances\n",
    "    relevant_features = []\n",
    "    feature_importance_list = [item for item in feature_importance_list if item[1] > 0.01]\n",
    "    for feature, importance in feature_importance_list[:max_n_features]:\n",
    "        relevant_features.append(feature)\n",
    "        print(\"   \" + feature + \" (\" + str(round(importance, 2)) + \")\")\n",
    "    print(\"Elapsed:\", int(round(time.time() - start_time,0)), \"sec.\")\n",
    "    return relevant_features\n",
    "\n",
    "X_train_red = X_train.drop(columns=[KPI_copy]) # temporarily remove KPI_copy from relevant features\n",
    "print(\"Variable\", KPI_copy, \"has been temporarily removed from X_train.\")\n",
    "print(\"\\nDisplaying top relevant features (importance) for each model:\")\n",
    "relevant_features = {}\n",
    "models = [XGBClassifier(), LGBMClassifier(verbosity=-1)]\n",
    "if fast_execution == False: models += [ExtraTreesClassifier(), RandomForestClassifier(), \n",
    "                                       CatBoostClassifier(verbose=False)]\n",
    "\n",
    "for model in models: \n",
    "    relevant_features[model.__class__.__name__] = set(get_relevant_features(model, X_train_red, y_train))"
   ]
  },
  {
   "cell_type": "code",
   "execution_count": 32,
   "id": "6fb953f5",
   "metadata": {},
   "outputs": [
    {
     "name": "stdout",
     "output_type": "stream",
     "text": [
      "The union of relevant features contains 17 features:\n",
      "['Cliente_Diverso', 'Edad', 'TiempoMedioSINCO', 'FrecuenciaSiniestroSINCO', 'TiempoSINCO', 'id55', 'ValorVehiculoMercado', 'AntiguedadVehiculo', 'PerteneceSINCO', 'ScoreCanal', 'id18', 'SINCOTotalVehiculos', 'NumeroDanyosMaterialesSINCO', 'AnyoPoliza', 'TiempoSeguroSINCO', 'id70', 'Antiguedad_Carnet']\n",
      "\n",
      "The intersection of relevant features contains 4 features.\n",
      "['FrecuenciaSiniestroSINCO', 'AnyoPoliza', 'PerteneceSINCO', 'id55']\n"
     ]
    }
   ],
   "source": [
    "# Get the union of relevant features from all models\n",
    "relevant_features_union = set.union(*relevant_features.values())\n",
    "relevant_features_union = list(relevant_features_union)\n",
    "print(\"The union of relevant features contains\", len(relevant_features_union), \"features:\")\n",
    "print(relevant_features_union)\n",
    "# Get the intersection of relevant features from all models\n",
    "relevant_features_intersection = set.intersection(*relevant_features.values())\n",
    "relevant_features_intersection = list(relevant_features_intersection)\n",
    "print(\"\\nThe intersection of relevant features contains\", len(relevant_features_intersection), \"features.\")\n",
    "print(relevant_features_intersection)"
   ]
  },
  {
   "cell_type": "markdown",
   "id": "f0eb2f3f",
   "metadata": {},
   "source": [
    "### 5c. Using Feature Importance re-define X and Train-Test Split"
   ]
  },
  {
   "cell_type": "code",
   "execution_count": 33,
   "id": "ff03128e",
   "metadata": {},
   "outputs": [
    {
     "name": "stdout",
     "output_type": "stream",
     "text": [
      "Features choice was set to default with 17 features\n",
      "\n",
      "Selected 17 relevant features are: \n",
      " ['Cliente_Diverso', 'Edad', 'TiempoMedioSINCO', 'FrecuenciaSiniestroSINCO', 'TiempoSINCO', 'id55', 'ValorVehiculoMercado', 'AntiguedadVehiculo', 'PerteneceSINCO', 'ScoreCanal', 'id18', 'SINCOTotalVehiculos', 'NumeroDanyosMaterialesSINCO', 'AnyoPoliza', 'TiempoSeguroSINCO', 'id70', 'Antiguedad_Carnet']\n"
     ]
    }
   ],
   "source": [
    "# Based on the features importance and availability, define the relevant features to be included in X \n",
    "if features_choice == 'union': relevant_features = relevant_features_union\n",
    "elif features_choice == 'intersection': relevant_features = relevant_features_intersection\n",
    "elif features_choice == 'top_mi_feat': relevant_features = top_mi_feat\n",
    "elif features_choice == 'top_corr_feat': relevant_features = top_corr_feat\n",
    "else: relevant_features = list(set(relevant_features_union).union(top_mi_feat))\n",
    "print(\"Features choice was set to\", features_choice, \"with\", len(relevant_features), \"features\")\n",
    "print(\"\\nSelected\", len(relevant_features), \"relevant features are: \\n\", relevant_features)"
   ]
  },
  {
   "cell_type": "code",
   "execution_count": 34,
   "id": "e216e80d",
   "metadata": {},
   "outputs": [
    {
     "name": "stdout",
     "output_type": "stream",
     "text": [
      "X has been re-set to consider the following relevant features: \n",
      " ['Cliente_Diverso', 'Edad', 'TiempoMedioSINCO', 'FrecuenciaSiniestroSINCO', 'TiempoSINCO', 'id55', 'ValorVehiculoMercado', 'AntiguedadVehiculo', 'PerteneceSINCO', 'ScoreCanal', 'id18', 'SINCOTotalVehiculos', 'NumeroDanyosMaterialesSINCO', 'AnyoPoliza', 'TiempoSeguroSINCO', 'id70', 'Antiguedad_Carnet']\n",
      "\n",
      "Variable BMA_pol_auto_original has been temporarily included in X as well.\n",
      "\n",
      "New X and y have been split into train and test sets.\n"
     ]
    }
   ],
   "source": [
    "# Re-define X and train-test split\n",
    "if feature_selection: \n",
    "    X = df[relevant_features]\n",
    "    print(\"X has been re-set to consider the following relevant features: \\n\", relevant_features)\n",
    "    X[KPI_copy] = df[KPI_copy]\n",
    "    print(\"\\nVariable\", KPI_copy, \"has been temporarily included in X as well.\")\n",
    "    X_train, X_test, y_train, y_test = train_test_split(X, y, test_size=0.3, random_state=42)\n",
    "    print(\"\\nNew X and y have been split into train and test sets.\")\n",
    "else: print(\"X and train-test sets have not been modified. Careful: X includes\", KPI_copy)"
   ]
  },
  {
   "cell_type": "code",
   "execution_count": 35,
   "id": "ebeb6e47",
   "metadata": {},
   "outputs": [
    {
     "name": "stdout",
     "output_type": "stream",
     "text": [
      "Summary of statistics for KPI variable BMA_pol_auto_original in X_train\n"
     ]
    },
    {
     "data": {
      "text/plain": [
       "count     36082.000000\n",
       "mean         48.459412\n",
       "std        2414.809800\n",
       "min     -185990.403750\n",
       "25%          76.001880\n",
       "50%         181.057450\n",
       "75%         271.889052\n",
       "max       28207.913409\n",
       "Name: BMA_pol_auto_original, dtype: float64"
      ]
     },
     "execution_count": 35,
     "metadata": {},
     "output_type": "execute_result"
    }
   ],
   "source": [
    "# Describe KPI_copy for the X_train rows\n",
    "print(\"Summary of statistics for KPI variable\", KPI_copy, \"in X_train\")\n",
    "X_train[KPI_copy].describe()"
   ]
  },
  {
   "cell_type": "code",
   "execution_count": 36,
   "id": "db64dc85",
   "metadata": {},
   "outputs": [
    {
     "name": "stdout",
     "output_type": "stream",
     "text": [
      "Total customers in X_train: 36,082 customers\n",
      "Maximum possible benefit in X_train: 9,933,097 euros\n",
      "Train real benefit before models: 1,748,513 euros (18% of max)\n",
      "Train avg. benefit before models: 48.46 euros per cust. in dataset\n"
     ]
    }
   ],
   "source": [
    "# Compute average and total benefit in X_train before applyting any classification model to filter customers\n",
    "print(f\"Total customers in X_train: {X_train.shape[0]:,.0f} customers\")\n",
    "max_benefit_train = X_train[X_train[KPI_copy] > 0][KPI_copy].sum()\n",
    "real_benefit_train = X_train[KPI_copy].sum()\n",
    "p_real_benefit_train = int(round(100 * real_benefit_train / max_benefit_train, 0))\n",
    "avg_real_benefit_train = X_train[KPI_copy].mean()\n",
    "print(f\"Maximum possible benefit in X_train: {max_benefit_train:,.0f} euros\")\n",
    "print(f\"Train real benefit before models: {real_benefit_train:,.0f} euros ({p_real_benefit_train}% of max)\")\n",
    "print(f\"Train avg. benefit before models: {avg_real_benefit_train:,.2f} euros per cust. in dataset\")"
   ]
  },
  {
   "cell_type": "code",
   "execution_count": 37,
   "id": "7db473c6",
   "metadata": {},
   "outputs": [
    {
     "name": "stdout",
     "output_type": "stream",
     "text": [
      "Boxplot of KPI in dataset X_train:\n",
      "\n"
     ]
    },
    {
     "data": {
      "image/png": "[encoded data removed]",
      "text/plain": [
       "<Figure size 800x100 with 1 Axes>"
      ]
     },
     "metadata": {},
     "output_type": "display_data"
    }
   ],
   "source": [
    "print(\"Boxplot of KPI in dataset X_train:\\n\")\n",
    "plot_boxplot(X_train, KPI_copy)"
   ]
  },
  {
   "cell_type": "code",
   "execution_count": 38,
   "id": "19bb3810",
   "metadata": {},
   "outputs": [
    {
     "name": "stdout",
     "output_type": "stream",
     "text": [
      "Variable BMA_pol_auto_original is NOT in X_train anymore.\n",
      "\n",
      "Variable BMA_pol_auto_original is still available in X_train_with_KPI.\n"
     ]
    }
   ],
   "source": [
    "# Make a copy of X_train and X_test before removing KPI_copy\n",
    "X_train_with_KPI = X_train.copy()\n",
    "X_test_with_KPI = X_test.copy()\n",
    "# Remove KPI_copy from X_train and X_test before using any classification model\n",
    "column_names = X.columns.tolist()\n",
    "X_train = X_train.drop(columns=[KPI_copy])\n",
    "X_test = X_test.drop(columns=[KPI_copy])\n",
    "if KPI_copy in X_train:\n",
    "    print(\"Variable\", KPI_copy, \"is still available in X_train.\")\n",
    "else: print(\"Variable\", KPI_copy, \"is NOT in X_train anymore.\")    \n",
    "if KPI_copy in X_train_with_KPI.columns:\n",
    "    print(\"\\nVariable\", KPI_copy, \"is still available in X_train_with_KPI.\")\n",
    "else: print(\"\\nVariable\", KPI_copy, \"is NOT in X_train_with_KPI anymore.\")    "
   ]
  },
  {
   "cell_type": "code",
   "execution_count": 39,
   "id": "912f7384",
   "metadata": {},
   "outputs": [
    {
     "name": "stdout",
     "output_type": "stream",
     "text": [
      "Data in X has been scaled.\n"
     ]
    }
   ],
   "source": [
    "# Scale data in X if requested\n",
    "if use_scaling:\n",
    "    scaler = StandardScaler()\n",
    "    X_train = scaler.fit_transform(X_train)\n",
    "    X_test = scaler.transform(X_test)\n",
    "    print(\"Data in X has been scaled.\")\n",
    "else:\n",
    "    print(\"Data in X has NOT been scaled.\")"
   ]
  },
  {
   "cell_type": "markdown",
   "id": "30f6b833",
   "metadata": {},
   "source": [
    "## 6. Generate a Pool of Generic Classification Models"
   ]
  },
  {
   "cell_type": "code",
   "execution_count": 40,
   "id": "24a8de85",
   "metadata": {},
   "outputs": [
    {
     "name": "stdout",
     "output_type": "stream",
     "text": [
      "The following classification models will be employed:\n",
      "['LogisticRegression', 'DecisionTreeClassifier', 'XGBClassifier', 'LGBMClassifier', 'GaussianNB']\n"
     ]
    }
   ],
   "source": [
    "# Define a pool of non-parametrized classification models\n",
    "models = [LogisticRegression(), \n",
    "          DecisionTreeClassifier(),\n",
    "          XGBClassifier(), \n",
    "          LGBMClassifier(verbosity=-1),\n",
    "          GaussianNB()]\n",
    "\n",
    "# Other models can be added, but usually do not provide better results and consume a lot of computational time.\n",
    "if fast_execution == False: models += [ExtraTreesClassifier(), \n",
    "                                       GradientBoostingClassifier(), \n",
    "                                       RandomForestClassifier(),\n",
    "                                       AdaBoostClassifier(),\n",
    "                                       CatBoostClassifier(verbose=False), \n",
    "                                       MLPClassifier(max_iter=10000)]\n",
    "\n",
    "print(\"The following classification models will be employed:\")\n",
    "models_names = [type(model).__name__ for model in models]\n",
    "print(models_names)"
   ]
  },
  {
   "cell_type": "code",
   "execution_count": 41,
   "id": "767f8d5e",
   "metadata": {},
   "outputs": [
    {
     "name": "stdout",
     "output_type": "stream",
     "text": [
      "Assessing models in the pool using TRAIN data and cross-validation...\n",
      "Model: LogisticRegression, roc_auc: 0.658\n",
      "Model: DecisionTreeClassifier, roc_auc: 0.573\n",
      "Model: XGBClassifier, roc_auc: 0.691\n",
      "Model: LGBMClassifier, roc_auc: 0.699\n",
      "Model: GaussianNB, roc_auc: 0.636\n",
      "\n",
      "All models in the pool have been fitted using the train data.\n",
      "\n",
      "Best model in pool is LGBMClassifier, with train roc_auc: 0.699\n"
     ]
    }
   ],
   "source": [
    "# Assess models in the pool using cross-validation\n",
    "models_results = {}\n",
    "X_train_df = pd.DataFrame(X_train)\n",
    "pred_train_df = pd.DataFrame(index=X_train_df.index) \n",
    "print(\"Assessing models in the pool using TRAIN data and cross-validation...\")\n",
    "for model in models:\n",
    "    model_name = model.__class__.__name__\n",
    "    scores = cross_val_score(model, X_train, y_train, cv=5, scoring=score_name)\n",
    "    mean_score_train = scores.mean()\n",
    "    models_results[model_name] = {'score_train': mean_score_train}\n",
    "    print(f\"Model: {model_name}, {score_name}: {mean_score_train:,.3f}\")\n",
    "    model.fit(X_train, y_train)\n",
    "    pred_train_df[model_name] = model.predict(X_train) \n",
    "\n",
    "print(\"\\nAll models in the pool have been fitted using the train data.\")\n",
    "\n",
    "# Select the best model in the pool and generate predictions\n",
    "best_model_name = max(models_results, key=lambda x: models_results[x]['score_train'])\n",
    "best_model = next(model for model in models if model.__class__.__name__ == best_model_name)\n",
    "best_model_score_train = models_results[best_model_name]['score_train']\n",
    "print(f\"\\nBest model in pool is {best_model_name}, with train {score_name}: {best_model_score_train:.3f}\")"
   ]
  },
  {
   "cell_type": "code",
   "execution_count": 42,
   "id": "0ee5f2f8",
   "metadata": {},
   "outputs": [
    {
     "name": "stdout",
     "output_type": "stream",
     "text": [
      "Column 'true_class' has been added to the TRAIN dataframe.\n"
     ]
    }
   ],
   "source": [
    "# Add the true class to predictions train dataframe and display rows with true_class=1\n",
    "pred_train_df['true_class'] = y_train.values\n",
    "print(\"Column 'true_class' has been added to the TRAIN dataframe.\")"
   ]
  },
  {
   "cell_type": "markdown",
   "id": "d874d256",
   "metadata": {},
   "source": [
    "## 7. Consider a Consensus Model"
   ]
  },
  {
   "cell_type": "code",
   "execution_count": 43,
   "id": "8643d2c6",
   "metadata": {},
   "outputs": [
    {
     "name": "stdout",
     "output_type": "stream",
     "text": [
      "A function to determine consensus among models has been defined.\n"
     ]
    }
   ],
   "source": [
    "# Function to determine consensus among models to assign a 0 (select) or a 1 (exclude) to a customer\n",
    "num_models = len(models)\n",
    "def consensus(row, required_ones_to_exclude):\n",
    "    return int(sum(row[:num_models]) >= required_ones_to_exclude)\n",
    "\n",
    "print(\"A function to determine consensus among models has been defined.\")"
   ]
  },
  {
   "cell_type": "code",
   "execution_count": 44,
   "id": "87b75c9f",
   "metadata": {},
   "outputs": [
    {
     "name": "stdout",
     "output_type": "stream",
     "text": [
      "A function to determine the score value based on 'score_name' has been defined.\n"
     ]
    }
   ],
   "source": [
    "# Function to determine the score value\n",
    "def get_score(y_real, y_pred):\n",
    "    if score_name == 'roc_auc': score = roc_auc_score(y_real, y_pred)\n",
    "    elif score_name == 'f1': score = f1_score(y_real, y_pred)\n",
    "    elif score_name == 'recall': score = recall_score(y_real, y_pred)\n",
    "    elif score_name == 'precision': score = precision_score(y_real, y_pred)\n",
    "    else: score = accuracy_score(y_real, y_pred)\n",
    "    return score\n",
    "\n",
    "print(\"A function to determine the score value based on 'score_name' has been defined.\")"
   ]
  },
  {
   "cell_type": "code",
   "execution_count": 45,
   "id": "c479bf80",
   "metadata": {},
   "outputs": [
    {
     "name": "stdout",
     "output_type": "stream",
     "text": [
      "Investigating the ideal number of predicted 1s required to assign a 1 by consensus to a customer...\n",
      "\n",
      "The train consensus predictions have been updated using 1 required 1s to exclude.\n",
      "\n",
      "The consensus model has a train roc_auc of 0.914\n"
     ]
    }
   ],
   "source": [
    "# Investigate which is the consensus model that maximizes score by changing the minimum consensus required\n",
    "print(\"Investigating the ideal number of predicted 1s required to assign a 1 by consensus to a customer...\")\n",
    "best_k = 0\n",
    "best_con_score_train = float('-inf')\n",
    "num_columns = pred_train_df.shape[1]\n",
    "for k in range(num_columns, 0, -1):\n",
    "    pred_train_df['consensus'] = pred_train_df.apply(lambda row: consensus(row, k), axis=1)\n",
    "    pred_consensus_train = pred_train_df['consensus'].to_numpy()\n",
    "    score_train = get_score(y_train, pred_consensus_train)\n",
    "    if score_train >= best_con_score_train:\n",
    "        best_k = k\n",
    "        best_con_score_train = score_train\n",
    "\n",
    "# Update column with the consensus obtained for the best_k value\n",
    "pred_train_df['consensus'] = pred_train_df.apply(lambda row: consensus(row, best_k), axis=1)\n",
    "print(f\"\\nThe train consensus predictions have been updated using {best_k} required 1s to exclude.\")\n",
    "print(f\"\\nThe consensus model has a train {score_name} of {best_con_score_train:.3f}\")"
   ]
  },
  {
   "cell_type": "code",
   "execution_count": 46,
   "id": "e26b1275",
   "metadata": {},
   "outputs": [
    {
     "name": "stdout",
     "output_type": "stream",
     "text": [
      "\n",
      "Dataframe of model's predictions with true_class=1 for TRAIN dataset:\n",
      "\n"
     ]
    },
    {
     "data": {
      "text/html": [
       "<div>\n",
       "<style scoped>\n",
       "    .dataframe tbody tr th:only-of-type {\n",
       "        vertical-align: middle;\n",
       "    }\n",
       "\n",
       "    .dataframe tbody tr th {\n",
       "        vertical-align: top;\n",
       "    }\n",
       "\n",
       "    .dataframe thead th {\n",
       "        text-align: right;\n",
       "    }\n",
       "</style>\n",
       "<table border=\"1\" class=\"dataframe\">\n",
       "  <thead>\n",
       "    <tr style=\"text-align: right;\">\n",
       "      <th></th>\n",
       "      <th>LogisticRegression</th>\n",
       "      <th>DecisionTreeClassifier</th>\n",
       "      <th>XGBClassifier</th>\n",
       "      <th>LGBMClassifier</th>\n",
       "      <th>GaussianNB</th>\n",
       "      <th>true_class</th>\n",
       "      <th>consensus</th>\n",
       "    </tr>\n",
       "  </thead>\n",
       "  <tbody>\n",
       "    <tr>\n",
       "      <th>9</th>\n",
       "      <td>0</td>\n",
       "      <td>1</td>\n",
       "      <td>0</td>\n",
       "      <td>0</td>\n",
       "      <td>0</td>\n",
       "      <td>1</td>\n",
       "      <td>1</td>\n",
       "    </tr>\n",
       "    <tr>\n",
       "      <th>18</th>\n",
       "      <td>0</td>\n",
       "      <td>1</td>\n",
       "      <td>0</td>\n",
       "      <td>0</td>\n",
       "      <td>0</td>\n",
       "      <td>1</td>\n",
       "      <td>1</td>\n",
       "    </tr>\n",
       "    <tr>\n",
       "      <th>23</th>\n",
       "      <td>0</td>\n",
       "      <td>1</td>\n",
       "      <td>0</td>\n",
       "      <td>0</td>\n",
       "      <td>0</td>\n",
       "      <td>1</td>\n",
       "      <td>1</td>\n",
       "    </tr>\n",
       "    <tr>\n",
       "      <th>30</th>\n",
       "      <td>0</td>\n",
       "      <td>1</td>\n",
       "      <td>0</td>\n",
       "      <td>0</td>\n",
       "      <td>0</td>\n",
       "      <td>1</td>\n",
       "      <td>1</td>\n",
       "    </tr>\n",
       "    <tr>\n",
       "      <th>34</th>\n",
       "      <td>0</td>\n",
       "      <td>1</td>\n",
       "      <td>0</td>\n",
       "      <td>0</td>\n",
       "      <td>0</td>\n",
       "      <td>1</td>\n",
       "      <td>1</td>\n",
       "    </tr>\n",
       "  </tbody>\n",
       "</table>\n",
       "</div>"
      ],
      "text/plain": [
       "    LogisticRegression  DecisionTreeClassifier  XGBClassifier  LGBMClassifier  \\\n",
       "9                    0                       1              0               0   \n",
       "18                   0                       1              0               0   \n",
       "23                   0                       1              0               0   \n",
       "30                   0                       1              0               0   \n",
       "34                   0                       1              0               0   \n",
       "\n",
       "    GaussianNB  true_class  consensus  \n",
       "9            0           1          1  \n",
       "18           0           1          1  \n",
       "23           0           1          1  \n",
       "30           0           1          1  \n",
       "34           0           1          1  "
      ]
     },
     "execution_count": 46,
     "metadata": {},
     "output_type": "execute_result"
    }
   ],
   "source": [
    "print(\"\\nDataframe of model's predictions with true_class=1 for TRAIN dataset:\\n\")\n",
    "pred_train_df[pred_train_df['true_class'] == 1].head()"
   ]
  },
  {
   "cell_type": "code",
   "execution_count": 47,
   "id": "293652da",
   "metadata": {},
   "outputs": [
    {
     "name": "stdout",
     "output_type": "stream",
     "text": [
      "\n",
      "Dataframe of model's predictions with true_class=0 for TRAIN dataset:\n",
      "\n"
     ]
    },
    {
     "data": {
      "text/html": [
       "<div>\n",
       "<style scoped>\n",
       "    .dataframe tbody tr th:only-of-type {\n",
       "        vertical-align: middle;\n",
       "    }\n",
       "\n",
       "    .dataframe tbody tr th {\n",
       "        vertical-align: top;\n",
       "    }\n",
       "\n",
       "    .dataframe thead th {\n",
       "        text-align: right;\n",
       "    }\n",
       "</style>\n",
       "<table border=\"1\" class=\"dataframe\">\n",
       "  <thead>\n",
       "    <tr style=\"text-align: right;\">\n",
       "      <th></th>\n",
       "      <th>LogisticRegression</th>\n",
       "      <th>DecisionTreeClassifier</th>\n",
       "      <th>XGBClassifier</th>\n",
       "      <th>LGBMClassifier</th>\n",
       "      <th>GaussianNB</th>\n",
       "      <th>true_class</th>\n",
       "      <th>consensus</th>\n",
       "    </tr>\n",
       "  </thead>\n",
       "  <tbody>\n",
       "    <tr>\n",
       "      <th>0</th>\n",
       "      <td>0</td>\n",
       "      <td>0</td>\n",
       "      <td>0</td>\n",
       "      <td>0</td>\n",
       "      <td>0</td>\n",
       "      <td>0</td>\n",
       "      <td>0</td>\n",
       "    </tr>\n",
       "    <tr>\n",
       "      <th>1</th>\n",
       "      <td>0</td>\n",
       "      <td>0</td>\n",
       "      <td>0</td>\n",
       "      <td>0</td>\n",
       "      <td>1</td>\n",
       "      <td>0</td>\n",
       "      <td>1</td>\n",
       "    </tr>\n",
       "    <tr>\n",
       "      <th>2</th>\n",
       "      <td>0</td>\n",
       "      <td>0</td>\n",
       "      <td>0</td>\n",
       "      <td>0</td>\n",
       "      <td>0</td>\n",
       "      <td>0</td>\n",
       "      <td>0</td>\n",
       "    </tr>\n",
       "    <tr>\n",
       "      <th>3</th>\n",
       "      <td>0</td>\n",
       "      <td>0</td>\n",
       "      <td>0</td>\n",
       "      <td>0</td>\n",
       "      <td>0</td>\n",
       "      <td>0</td>\n",
       "      <td>0</td>\n",
       "    </tr>\n",
       "    <tr>\n",
       "      <th>4</th>\n",
       "      <td>0</td>\n",
       "      <td>0</td>\n",
       "      <td>0</td>\n",
       "      <td>0</td>\n",
       "      <td>0</td>\n",
       "      <td>0</td>\n",
       "      <td>0</td>\n",
       "    </tr>\n",
       "  </tbody>\n",
       "</table>\n",
       "</div>"
      ],
      "text/plain": [
       "   LogisticRegression  DecisionTreeClassifier  XGBClassifier  LGBMClassifier  \\\n",
       "0                   0                       0              0               0   \n",
       "1                   0                       0              0               0   \n",
       "2                   0                       0              0               0   \n",
       "3                   0                       0              0               0   \n",
       "4                   0                       0              0               0   \n",
       "\n",
       "   GaussianNB  true_class  consensus  \n",
       "0           0           0          0  \n",
       "1           1           0          1  \n",
       "2           0           0          0  \n",
       "3           0           0          0  \n",
       "4           0           0          0  "
      ]
     },
     "execution_count": 47,
     "metadata": {},
     "output_type": "execute_result"
    }
   ],
   "source": [
    "print(\"\\nDataframe of model's predictions with true_class=0 for TRAIN dataset:\\n\")\n",
    "pred_train_df[pred_train_df['true_class'] == 0].head()"
   ]
  },
  {
   "cell_type": "code",
   "execution_count": 48,
   "id": "15a061c1",
   "metadata": {},
   "outputs": [
    {
     "name": "stdout",
     "output_type": "stream",
     "text": [
      "Predictions on TEST dataset have been computed using all models in the pool and added to dataframe.\n"
     ]
    }
   ],
   "source": [
    "# Use the consensus model to predict y_test values\n",
    "X_test_df = pd.DataFrame(X_test)\n",
    "pred_test_df = pd.DataFrame(index=X_test_df.index)\n",
    "for model in models:\n",
    "    model_name = model.__class__.__name__\n",
    "    pred_test_df[model_name] = model.predict(X_test) \n",
    "print(f\"Predictions on TEST dataset have been computed using all models in the pool and added to dataframe.\")"
   ]
  },
  {
   "cell_type": "code",
   "execution_count": 49,
   "id": "77da942e",
   "metadata": {},
   "outputs": [
    {
     "name": "stdout",
     "output_type": "stream",
     "text": [
      "Predictions on TEST dataset have been computed using LGBMClassifier.\n"
     ]
    }
   ],
   "source": [
    "# Generate predictions on the TEST set using the best model in the pool\n",
    "best_model_pred_test = best_model.predict(X_test)\n",
    "print(f\"Predictions on TEST dataset have been computed using {best_model_name}.\")"
   ]
  },
  {
   "cell_type": "code",
   "execution_count": 50,
   "id": "75b69dbc",
   "metadata": {},
   "outputs": [
    {
     "name": "stdout",
     "output_type": "stream",
     "text": [
      "Column 'true_class' has been added to the TEST dataframe.\n"
     ]
    }
   ],
   "source": [
    "# Add true_class values to TEST dataframe for visual inspection (that will not change the model)\n",
    "pred_test_df['true_class'] = y_test.values\n",
    "print(\"Column 'true_class' has been added to the TEST dataframe.\")"
   ]
  },
  {
   "cell_type": "code",
   "execution_count": 51,
   "id": "0f51ea4d",
   "metadata": {},
   "outputs": [
    {
     "name": "stdout",
     "output_type": "stream",
     "text": [
      "The consensus model will be used instead of the best-pool model.\n"
     ]
    }
   ],
   "source": [
    "# If consensus model has to be considered, check if it improves the best-pool one\n",
    "pred_test_df['consensus'] = pred_test_df.apply(lambda row: consensus(row, best_k), axis=1)\n",
    "if consider_consensus and best_con_score_train > best_model_score_train:\n",
    "    best_model_pred_test = pred_test_df['consensus'].to_numpy()\n",
    "    print(\"The consensus model will be used instead of the best-pool model.\")\n",
    "else: print(\"The best-pool model will be used (consensus not considered or best-pool's score is better).\")"
   ]
  },
  {
   "cell_type": "code",
   "execution_count": 52,
   "id": "1356d5a1",
   "metadata": {},
   "outputs": [
    {
     "name": "stdout",
     "output_type": "stream",
     "text": [
      "\n",
      "Dataframe of model's predictions with true_class=1 for TEST dataset:\n",
      "\n"
     ]
    },
    {
     "data": {
      "text/html": [
       "<div>\n",
       "<style scoped>\n",
       "    .dataframe tbody tr th:only-of-type {\n",
       "        vertical-align: middle;\n",
       "    }\n",
       "\n",
       "    .dataframe tbody tr th {\n",
       "        vertical-align: top;\n",
       "    }\n",
       "\n",
       "    .dataframe thead th {\n",
       "        text-align: right;\n",
       "    }\n",
       "</style>\n",
       "<table border=\"1\" class=\"dataframe\">\n",
       "  <thead>\n",
       "    <tr style=\"text-align: right;\">\n",
       "      <th></th>\n",
       "      <th>LogisticRegression</th>\n",
       "      <th>DecisionTreeClassifier</th>\n",
       "      <th>XGBClassifier</th>\n",
       "      <th>LGBMClassifier</th>\n",
       "      <th>GaussianNB</th>\n",
       "      <th>true_class</th>\n",
       "      <th>consensus</th>\n",
       "    </tr>\n",
       "  </thead>\n",
       "  <tbody>\n",
       "    <tr>\n",
       "      <th>3</th>\n",
       "      <td>0</td>\n",
       "      <td>1</td>\n",
       "      <td>0</td>\n",
       "      <td>0</td>\n",
       "      <td>1</td>\n",
       "      <td>1</td>\n",
       "      <td>1</td>\n",
       "    </tr>\n",
       "    <tr>\n",
       "      <th>17</th>\n",
       "      <td>0</td>\n",
       "      <td>0</td>\n",
       "      <td>0</td>\n",
       "      <td>0</td>\n",
       "      <td>0</td>\n",
       "      <td>1</td>\n",
       "      <td>0</td>\n",
       "    </tr>\n",
       "    <tr>\n",
       "      <th>20</th>\n",
       "      <td>0</td>\n",
       "      <td>1</td>\n",
       "      <td>1</td>\n",
       "      <td>1</td>\n",
       "      <td>0</td>\n",
       "      <td>1</td>\n",
       "      <td>1</td>\n",
       "    </tr>\n",
       "    <tr>\n",
       "      <th>26</th>\n",
       "      <td>1</td>\n",
       "      <td>0</td>\n",
       "      <td>0</td>\n",
       "      <td>0</td>\n",
       "      <td>1</td>\n",
       "      <td>1</td>\n",
       "      <td>1</td>\n",
       "    </tr>\n",
       "    <tr>\n",
       "      <th>27</th>\n",
       "      <td>0</td>\n",
       "      <td>0</td>\n",
       "      <td>0</td>\n",
       "      <td>0</td>\n",
       "      <td>0</td>\n",
       "      <td>1</td>\n",
       "      <td>0</td>\n",
       "    </tr>\n",
       "  </tbody>\n",
       "</table>\n",
       "</div>"
      ],
      "text/plain": [
       "    LogisticRegression  DecisionTreeClassifier  XGBClassifier  LGBMClassifier  \\\n",
       "3                    0                       1              0               0   \n",
       "17                   0                       0              0               0   \n",
       "20                   0                       1              1               1   \n",
       "26                   1                       0              0               0   \n",
       "27                   0                       0              0               0   \n",
       "\n",
       "    GaussianNB  true_class  consensus  \n",
       "3            1           1          1  \n",
       "17           0           1          0  \n",
       "20           0           1          1  \n",
       "26           1           1          1  \n",
       "27           0           1          0  "
      ]
     },
     "execution_count": 52,
     "metadata": {},
     "output_type": "execute_result"
    }
   ],
   "source": [
    "print(\"\\nDataframe of model's predictions with true_class=1 for TEST dataset:\\n\")\n",
    "pred_test_df[pred_test_df['true_class'] == 1].head()"
   ]
  },
  {
   "cell_type": "code",
   "execution_count": 53,
   "id": "36cef4d4",
   "metadata": {},
   "outputs": [
    {
     "name": "stdout",
     "output_type": "stream",
     "text": [
      "\n",
      "Dataframe of model's predictions with true_class=0 for TEST dataset:\n",
      "\n"
     ]
    },
    {
     "data": {
      "text/html": [
       "<div>\n",
       "<style scoped>\n",
       "    .dataframe tbody tr th:only-of-type {\n",
       "        vertical-align: middle;\n",
       "    }\n",
       "\n",
       "    .dataframe tbody tr th {\n",
       "        vertical-align: top;\n",
       "    }\n",
       "\n",
       "    .dataframe thead th {\n",
       "        text-align: right;\n",
       "    }\n",
       "</style>\n",
       "<table border=\"1\" class=\"dataframe\">\n",
       "  <thead>\n",
       "    <tr style=\"text-align: right;\">\n",
       "      <th></th>\n",
       "      <th>LogisticRegression</th>\n",
       "      <th>DecisionTreeClassifier</th>\n",
       "      <th>XGBClassifier</th>\n",
       "      <th>LGBMClassifier</th>\n",
       "      <th>GaussianNB</th>\n",
       "      <th>true_class</th>\n",
       "      <th>consensus</th>\n",
       "    </tr>\n",
       "  </thead>\n",
       "  <tbody>\n",
       "    <tr>\n",
       "      <th>0</th>\n",
       "      <td>0</td>\n",
       "      <td>0</td>\n",
       "      <td>0</td>\n",
       "      <td>1</td>\n",
       "      <td>0</td>\n",
       "      <td>0</td>\n",
       "      <td>1</td>\n",
       "    </tr>\n",
       "    <tr>\n",
       "      <th>1</th>\n",
       "      <td>0</td>\n",
       "      <td>0</td>\n",
       "      <td>1</td>\n",
       "      <td>0</td>\n",
       "      <td>0</td>\n",
       "      <td>0</td>\n",
       "      <td>1</td>\n",
       "    </tr>\n",
       "    <tr>\n",
       "      <th>2</th>\n",
       "      <td>0</td>\n",
       "      <td>1</td>\n",
       "      <td>1</td>\n",
       "      <td>1</td>\n",
       "      <td>0</td>\n",
       "      <td>0</td>\n",
       "      <td>1</td>\n",
       "    </tr>\n",
       "    <tr>\n",
       "      <th>4</th>\n",
       "      <td>0</td>\n",
       "      <td>0</td>\n",
       "      <td>0</td>\n",
       "      <td>0</td>\n",
       "      <td>0</td>\n",
       "      <td>0</td>\n",
       "      <td>0</td>\n",
       "    </tr>\n",
       "    <tr>\n",
       "      <th>5</th>\n",
       "      <td>0</td>\n",
       "      <td>0</td>\n",
       "      <td>0</td>\n",
       "      <td>0</td>\n",
       "      <td>0</td>\n",
       "      <td>0</td>\n",
       "      <td>0</td>\n",
       "    </tr>\n",
       "  </tbody>\n",
       "</table>\n",
       "</div>"
      ],
      "text/plain": [
       "   LogisticRegression  DecisionTreeClassifier  XGBClassifier  LGBMClassifier  \\\n",
       "0                   0                       0              0               1   \n",
       "1                   0                       0              1               0   \n",
       "2                   0                       1              1               1   \n",
       "4                   0                       0              0               0   \n",
       "5                   0                       0              0               0   \n",
       "\n",
       "   GaussianNB  true_class  consensus  \n",
       "0           0           0          1  \n",
       "1           0           0          1  \n",
       "2           0           0          1  \n",
       "4           0           0          0  \n",
       "5           0           0          0  "
      ]
     },
     "execution_count": 53,
     "metadata": {},
     "output_type": "execute_result"
    }
   ],
   "source": [
    "print(\"\\nDataframe of model's predictions with true_class=0 for TEST dataset:\\n\")\n",
    "pred_test_df[pred_test_df['true_class'] == 0].head()"
   ]
  },
  {
   "cell_type": "markdown",
   "id": "e7031111",
   "metadata": {},
   "source": [
    "## 8. Using the Best Model to Estimate Benefits in X_test"
   ]
  },
  {
   "cell_type": "code",
   "execution_count": 54,
   "id": "2ad70f4a",
   "metadata": {},
   "outputs": [
    {
     "name": "stdout",
     "output_type": "stream",
     "text": [
      "A function to compute benefits associated with the use of a model has been defined.\n"
     ]
    }
   ],
   "source": [
    "# Define a function to compute benefits in a given dataset after selecting customers\n",
    "def calc_benefit(predictions, X, details=True):\n",
    "    X['class_predicted'] = predictions\n",
    "    n_customers = len(predictions)\n",
    "    if details:\n",
    "        print(f\"\\nTotal customers in dataset: {n_customers:,.0f} customers\")    \n",
    "    # Filter dataset to select only selected customers (class 0)\n",
    "    selected = X[X['class_predicted'] == 0]\n",
    "    excluded = X[X['class_predicted'] == 1]\n",
    "    others = X[~X.index.isin(selected.index) & ~X.index.isin(excluded.index)]\n",
    "    n_selected = len(selected)\n",
    "    n_excluded = len(excluded)\n",
    "    n_others = len(others)\n",
    "    if details:\n",
    "        print(f\"Total selected customers: {n_selected:,.0f} ({n_selected/n_customers*100:,.0f}%)\")\n",
    "        print(f\"Total excluded customers: {n_excluded:,.0f} ({n_excluded/n_customers*100:,.0f}%)\")\n",
    "        print(f\"Total other customers: {n_others:,.0f} ({n_others/n_customers*100:,.0f}%)\")\n",
    "        print(f\"\\nDescriptive statistics for selected (accepted) customers:\")\n",
    "        print(selected[KPI_copy].describe())\n",
    "    max_benefit = X[X[KPI_copy] > 0][KPI_copy].sum()\n",
    "    r_benefit = X[KPI_copy].sum() # real (actual) benefit without applying models\n",
    "    p_r_benefit = int(round(100 * r_benefit / max_benefit, 0)) # percentage real benefit\n",
    "    avg_r_benefit = r_benefit/n_customers # average real benefit per customer in dataset\n",
    "    m_benefit = selected[KPI_copy].sum()\n",
    "    p_m_benefit = int(round(100 * m_benefit / max_benefit, 0))\n",
    "    avg_m_benefit = m_benefit/n_customers # average model benefit per customer in dataset\n",
    "    if details:\n",
    "        print(f\"\\nMaximum possible benefit in dataset: {max_benefit:,.0f} euros\")\n",
    "        print(f\"Real benefit before model: {r_benefit:,.0f} euros ({p_r_benefit}% of max)\")\n",
    "        print(f\"Avg. benefit before model: {avg_r_benefit:,.2f} euros per cust. in dataset\")\n",
    "        print(f\"Est. benefit after model: {m_benefit:,.0f} euros ({p_m_benefit}% of max)\")\n",
    "        print(f\"Avg. benefit after model: {avg_m_benefit:,.2f} euros per customer in dataset\")\n",
    "        print(f\"\\nDescriptive statistics for excluded customers:\")\n",
    "        print(excluded[KPI_copy].describe())\n",
    "        print(\"\\nBoxplots of KPI for selected and excluded customers:\")\n",
    "        plt.figure(figsize=(8, 2))\n",
    "        plt.boxplot([selected[KPI_copy], excluded[KPI_copy]], vert=False, labels=['Selected 0', 'Excluded 1'])\n",
    "        plt.show()\n",
    "        print(f\"\\nSelected customers with positive KPI: {(selected[KPI_copy] > 0).sum():,.0f}\")\n",
    "        print(f\"Selected customers with negative (or zero) KPI: {(selected[KPI_copy] <= 0).sum():,.0f}\")\n",
    "        print(f\"Excluded customers with positive KPI: {(excluded[KPI_copy] > 0).sum():,.0f}\")\n",
    "        print(f\"Excluded customers with negative (or zero) KPI: {(excluded[KPI_copy] <= 0).sum():,.0f}\")\n",
    "    return m_benefit\n",
    "\n",
    "print(\"A function to compute benefits associated with the use of a model has been defined.\")"
   ]
  },
  {
   "cell_type": "code",
   "execution_count": 55,
   "id": "5df40305",
   "metadata": {},
   "outputs": [
    {
     "name": "stdout",
     "output_type": "stream",
     "text": [
      "\n",
      "Total customers in dataset: 15,464 customers\n",
      "Total selected customers: 9,997 (65%)\n",
      "Total excluded customers: 5,467 (35%)\n",
      "Total other customers: 0 (0%)\n",
      "\n",
      "Descriptive statistics for selected (accepted) customers:\n",
      "count     9997.000000\n",
      "mean       176.279017\n",
      "std       1788.462515\n",
      "min     -86528.878163\n",
      "25%        108.323970\n",
      "50%        189.739567\n",
      "75%        286.488300\n",
      "max      24107.363571\n",
      "Name: BMA_pol_auto_original, dtype: float64\n",
      "\n",
      "Maximum possible benefit in dataset: 4,313,963 euros\n",
      "Real benefit before model: 583,570 euros (14% of max)\n",
      "Avg. benefit before model: 37.74 euros per cust. in dataset\n",
      "Est. benefit after model: 1,762,261 euros (41% of max)\n",
      "Avg. benefit after model: 113.96 euros per customer in dataset\n",
      "\n",
      "Descriptive statistics for excluded customers:\n",
      "count      5467.000000\n",
      "mean       -215.601105\n",
      "std        3680.077748\n",
      "min     -164739.693697\n",
      "25%         -78.344703\n",
      "50%         162.228846\n",
      "75%         251.445167\n",
      "max       13916.537500\n",
      "Name: BMA_pol_auto_original, dtype: float64\n",
      "\n",
      "Boxplots of KPI for selected and excluded customers:\n"
     ]
    },
    {
     "data": {
      "image/png": "[encoded data removed]",
      "text/plain": [
       "<Figure size 800x200 with 1 Axes>"
      ]
     },
     "metadata": {},
     "output_type": "display_data"
    },
    {
     "name": "stdout",
     "output_type": "stream",
     "text": [
      "\n",
      "Selected customers with positive KPI: 8,646\n",
      "Selected customers with negative (or zero) KPI: 1,351\n",
      "Excluded customers with positive KPI: 3,857\n",
      "Excluded customers with negative (or zero) KPI: 1,610\n"
     ]
    }
   ],
   "source": [
    "# Make sure X_test is a dataframe and compute associated benefits of using best_model\n",
    "X_test_with_KPI = pd.DataFrame(X_test_with_KPI)\n",
    "benefit = calc_benefit(best_model_pred_test, X_test_with_KPI)"
   ]
  },
  {
   "cell_type": "markdown",
   "id": "bf92f8e2",
   "metadata": {},
   "source": [
    "## 9. Classification Reports"
   ]
  },
  {
   "cell_type": "code",
   "execution_count": 56,
   "id": "fea8aee0",
   "metadata": {},
   "outputs": [
    {
     "name": "stdout",
     "output_type": "stream",
     "text": [
      "\n",
      "Careful!: this confusion matrix uses a threshold of 0.00\n"
     ]
    },
    {
     "data": {
      "image/png": "[encoded data removed]",
      "text/plain": [
       "<Figure size 400x300 with 2 Axes>"
      ]
     },
     "metadata": {},
     "output_type": "display_data"
    }
   ],
   "source": [
    "# Generate the confusion matrix\n",
    "def plot_cf(cf, color):\n",
    "    print(f\"\\nCareful!: this confusion matrix uses a threshold of {threshold:,.2f}\")\n",
    "    plt.figure(figsize=(4, 3))\n",
    "    sns.heatmap(cf, annot=True, fmt='d', cmap=color, annot_kws={\"fontsize\": 12})\n",
    "    plt.title('Confusion matrix for test dataset')\n",
    "    plt.xlabel('Predicted class')\n",
    "    plt.ylabel('True class')\n",
    "    plt.show();\n",
    "\n",
    "plot_cf(confusion_matrix(y_test, best_model_pred_test), 'Greens')"
   ]
  },
  {
   "cell_type": "code",
   "execution_count": 57,
   "id": "cbed6a76",
   "metadata": {},
   "outputs": [
    {
     "name": "stdout",
     "output_type": "stream",
     "text": [
      "Classification report for test dataset:\n",
      "              precision    recall  f1-score   support\n",
      "\n",
      "           0       0.86      0.69      0.77     12503\n",
      "           1       0.29      0.54      0.38      2961\n",
      "\n",
      "    accuracy                           0.66     15464\n",
      "   macro avg       0.58      0.62      0.58     15464\n",
      "weighted avg       0.76      0.66      0.69     15464\n",
      "\n"
     ]
    }
   ],
   "source": [
    "print(\"Classification report for test dataset:\")\n",
    "print(classification_report(y_test, best_model_pred_test))"
   ]
  },
  {
   "cell_type": "code",
   "execution_count": 58,
   "id": "474efcdc",
   "metadata": {},
   "outputs": [
    {
     "data": {
      "image/png": "[encoded data removed]",
      "text/plain": [
       "<Figure size 400x300 with 1 Axes>"
      ]
     },
     "metadata": {},
     "output_type": "display_data"
    }
   ],
   "source": [
    "# Compute the ROC curve and the area under the ROC curve\n",
    "def plot_roc(fpr, tpr, roc_auc):\n",
    "    plt.figure(figsize=(4, 3))\n",
    "    plt.plot(fpr, tpr, color='darkorange', lw=2, label=f'ROC curve (area = {roc_auc:.2f})')\n",
    "    plt.plot([0, 1], [0, 1], color='navy', lw=2, linestyle='--')\n",
    "    plt.xlabel('False positive rate')\n",
    "    plt.ylabel('True positive rate')\n",
    "    plt.title('ROC curve (test dataset)')\n",
    "    plt.legend(loc=\"lower right\")\n",
    "    plt.show()\n",
    "\n",
    "fpr, tpr, thresholds = roc_curve(y_test, best_model_pred_test)\n",
    "roc_auc = roc_auc_score(y_test, best_model_pred_test)\n",
    "plot_roc(fpr, tpr, roc_auc)"
   ]
  },
  {
   "cell_type": "code",
   "execution_count": null,
   "id": "25a43650",
   "metadata": {},
   "outputs": [],
   "source": []
  }
 ],
 "metadata": {
  "kernelspec": {
   "display_name": "Python 3 (ipykernel)",
   "language": "python",
   "name": "python3"
  },
  "language_info": {
   "codemirror_mode": {
    "name": "ipython",
    "version": 3
   },
   "file_extension": ".py",
   "mimetype": "text/x-python",
   "name": "python",
   "nbconvert_exporter": "python",
   "pygments_lexer": "ipython3",
   "version": "3.11.5"
  }
 },
 "nbformat": 4,
 "nbformat_minor": 5
}
